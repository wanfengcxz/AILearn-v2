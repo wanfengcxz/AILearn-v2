{
 "cells": [
  {
   "cell_type": "code",
   "execution_count": 1,
   "metadata": {},
   "outputs": [],
   "source": [
    "import torch\n",
    "from torch import nn\n",
    "from d2l import torch as d2l"
   ]
  },
  {
   "cell_type": "code",
   "execution_count": 2,
   "metadata": {},
   "outputs": [],
   "source": [
    "def vgg_block(num_convs, in_channels, out_channels):\n",
    "    layers = []\n",
    "    for _ in range(num_convs):\n",
    "        layers.append(nn.Conv2d(\n",
    "            in_channels, out_channels, kernel_size=3, padding=1))\n",
    "        layers.append(nn.ReLU())\n",
    "        in_channels = out_channels\n",
    "    layers.append(nn.MaxPool2d(kernel_size=2, stride=2))\n",
    "    return nn.Sequential(*layers)"
   ]
  },
  {
   "cell_type": "code",
   "execution_count": 4,
   "metadata": {},
   "outputs": [],
   "source": [
    "conv_arch = ((1,64),(1,128), (2,256), (2,512),(2,512))\n",
    "\n",
    "def vgg(conv_arch):\n",
    "    conv_blks = []\n",
    "    in_channels = 1\n",
    "    for (num_convs, out_channels) in conv_arch:\n",
    "        conv_blks.append(vgg_block(\n",
    "            num_convs, in_channels, out_channels))\n",
    "        in_channels = out_channels\n",
    "    return nn.Sequential(\n",
    "        *conv_blks, nn.Flatten(),\n",
    "        nn.Linear(7 * 7 * out_channels, 4096), nn.ReLU(),\n",
    "        nn.Dropout(0.5), nn.Linear(4096, 4096), nn.ReLU(),\n",
    "        nn.Dropout(0.5), nn.Linear(4096, 10))\n",
    "\n",
    "net = vgg(conv_arch)    "
   ]
  },
  {
   "cell_type": "code",
   "execution_count": 14,
   "metadata": {},
   "outputs": [
    {
     "data": {
      "text/plain": [
       "torch.Size([1, 1, 224, 224])"
      ]
     },
     "execution_count": 14,
     "metadata": {},
     "output_type": "execute_result"
    }
   ],
   "source": [
    "X = torch.rand(1, 1,224,224)\n",
    "X.shape"
   ]
  },
  {
   "cell_type": "code",
   "execution_count": 15,
   "metadata": {},
   "outputs": [
    {
     "name": "stdout",
     "output_type": "stream",
     "text": [
      "Sequential output size:\t torch.Size([1, 64, 112, 112])\n",
      "Sequential output size:\t torch.Size([1, 128, 56, 56])\n",
      "Sequential output size:\t torch.Size([1, 256, 28, 28])\n",
      "Sequential output size:\t torch.Size([1, 512, 14, 14])\n",
      "Sequential output size:\t torch.Size([1, 512, 7, 7])\n",
      "Flatten output size:\t torch.Size([1, 25088])\n",
      "Linear output size:\t torch.Size([1, 4096])\n",
      "ReLU output size:\t torch.Size([1, 4096])\n",
      "Dropout output size:\t torch.Size([1, 4096])\n",
      "Linear output size:\t torch.Size([1, 4096])\n",
      "ReLU output size:\t torch.Size([1, 4096])\n",
      "Dropout output size:\t torch.Size([1, 4096])\n",
      "Linear output size:\t torch.Size([1, 10])\n"
     ]
    }
   ],
   "source": [
    "for layer in net:\n",
    "    X = layer(X)\n",
    "    print(layer.__class__.__name__, 'output size:\\t', X.shape)"
   ]
  },
  {
   "cell_type": "code",
   "execution_count": 16,
   "metadata": {},
   "outputs": [],
   "source": [
    "ratio = 4\n",
    "small_conv_arch = [(pair[0], pair[1] // ratio) for pair in conv_arch]\n",
    "net = vgg(small_conv_arch)"
   ]
  },
  {
   "cell_type": "code",
   "execution_count": null,
   "metadata": {},
   "outputs": [],
   "source": [
    "batch_size = 64\n",
    "lr = 0.05,\n",
    "num_epochs = 10\n",
    "trian_iter, test_iter = d2l.load_data_fashion_mnist(batch_size, resize=224)\n",
    "d2l.train_ch6(net, train_iter, test_iter, num_epochs, lr, d2l.try_gpu())"
   ]
  },
  {
   "cell_type": "code",
   "execution_count": null,
   "metadata": {},
   "outputs": [],
   "source": []
  }
 ],
 "metadata": {
  "kernelspec": {
   "display_name": "Python 3",
   "language": "python",
   "name": "python3"
  },
  "language_info": {
   "codemirror_mode": {
    "name": "ipython",
    "version": 3
   },
   "file_extension": ".py",
   "mimetype": "text/x-python",
   "name": "python",
   "nbconvert_exporter": "python",
   "pygments_lexer": "ipython3",
   "version": "3.7.3"
  }
 },
 "nbformat": 4,
 "nbformat_minor": 4
}
