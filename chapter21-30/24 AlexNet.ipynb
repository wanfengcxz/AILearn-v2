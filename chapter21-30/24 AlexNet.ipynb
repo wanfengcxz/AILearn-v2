{
 "cells": [
  {
   "cell_type": "code",
   "execution_count": 1,
   "metadata": {},
   "outputs": [],
   "source": [
    "import torch\n",
    "from torch import nn\n",
    "from d2l import torch as d2l"
   ]
  },
  {
   "cell_type": "code",
   "execution_count": 2,
   "metadata": {},
   "outputs": [],
   "source": [
    "net = nn.Sequential(\n",
    "    nn.Conv2d(1,96,kernel_size=11,stride=4, padding=1), nn.ReLU(),\n",
    "    nn.MaxPool2d(kernel_size=3, stride=2),\n",
    "    nn.Conv2d(96, 256, kernel_size=5, padding=2), nn.ReLU(),\n",
    "    nn.MaxPool2d(kernel_size=3, stride=2),\n",
    "    nn.Conv2d(256, 384, kernel_size=3,padding=1), nn.ReLU(),\n",
    "    nn.Conv2d(384, 384, kernel_size=3,padding=1), nn.ReLU(),\n",
    "    nn.Conv2d(384, 256, kernel_size=3,padding=1), nn.ReLU(),\n",
    "    nn.MaxPool2d(kernel_size=3, stride=2), nn.Flatten(),\n",
    "    nn.Linear(6400, 4096), nn.ReLU(), nn.Dropout(p=0.5),\n",
    "    nn.Linear(4096, 4096), nn.ReLU(), nn.Dropout(p=0.5),\n",
    "    nn.Linear(4096, 10)\n",
    ")"
   ]
  },
  {
   "cell_type": "code",
   "execution_count": 4,
   "metadata": {},
   "outputs": [
    {
     "name": "stdout",
     "output_type": "stream",
     "text": [
      "Conv2d Output shape \t torch.Size([1, 96, 54, 54])\n",
      "ReLU Output shape \t torch.Size([1, 96, 54, 54])\n",
      "MaxPool2d Output shape \t torch.Size([1, 96, 26, 26])\n",
      "Conv2d Output shape \t torch.Size([1, 256, 26, 26])\n",
      "ReLU Output shape \t torch.Size([1, 256, 26, 26])\n",
      "MaxPool2d Output shape \t torch.Size([1, 256, 12, 12])\n",
      "Conv2d Output shape \t torch.Size([1, 384, 12, 12])\n",
      "ReLU Output shape \t torch.Size([1, 384, 12, 12])\n",
      "Conv2d Output shape \t torch.Size([1, 384, 12, 12])\n",
      "ReLU Output shape \t torch.Size([1, 384, 12, 12])\n",
      "Conv2d Output shape \t torch.Size([1, 256, 12, 12])\n",
      "ReLU Output shape \t torch.Size([1, 256, 12, 12])\n",
      "MaxPool2d Output shape \t torch.Size([1, 256, 5, 5])\n",
      "Flatten Output shape \t torch.Size([1, 6400])\n",
      "Linear Output shape \t torch.Size([1, 4096])\n",
      "ReLU Output shape \t torch.Size([1, 4096])\n",
      "Dropout Output shape \t torch.Size([1, 4096])\n",
      "Linear Output shape \t torch.Size([1, 4096])\n",
      "ReLU Output shape \t torch.Size([1, 4096])\n",
      "Dropout Output shape \t torch.Size([1, 4096])\n",
      "Linear Output shape \t torch.Size([1, 10])\n"
     ]
    }
   ],
   "source": [
    "X = torch.rand((1,1,224,224))\n",
    "for layer in net:\n",
    "    X = layer(X)\n",
    "    print(layer.__class__.__name__, 'Output shape \\t', X.shape)"
   ]
  },
  {
   "cell_type": "code",
   "execution_count": 1,
   "metadata": {},
   "outputs": [
    {
     "ename": "NameError",
     "evalue": "name 'd2l' is not defined",
     "output_type": "error",
     "traceback": [
      "\u001b[1;31m---------------------------------------------------------------------------\u001b[0m",
      "\u001b[1;31mNameError\u001b[0m                                 Traceback (most recent call last)",
      "\u001b[1;32m<ipython-input-1-9d14bc6e4a93>\u001b[0m in \u001b[0;36m<module>\u001b[1;34m\u001b[0m\n\u001b[0;32m      1\u001b[0m \u001b[0mbatch_size\u001b[0m \u001b[1;33m=\u001b[0m \u001b[1;36m128\u001b[0m\u001b[1;33m\u001b[0m\u001b[1;33m\u001b[0m\u001b[0m\n\u001b[1;32m----> 2\u001b[1;33m train_iter, test_iter = d2l.load_data_fashion_mnist(\n\u001b[0m\u001b[0;32m      3\u001b[0m     batch_size, resize=224)\n",
      "\u001b[1;31mNameError\u001b[0m: name 'd2l' is not defined"
     ]
    }
   ],
   "source": [
    "batch_size = 128\n",
    "train_iter, test_iter = d2l.load_data_fashion_mnist(\n",
    "    batch_size, resize=224)"
   ]
  }
 ],
 "metadata": {
  "kernelspec": {
   "display_name": "Python 3",
   "language": "python",
   "name": "python3"
  },
  "language_info": {
   "codemirror_mode": {
    "name": "ipython",
    "version": 3
   },
   "file_extension": ".py",
   "mimetype": "text/x-python",
   "name": "python",
   "nbconvert_exporter": "python",
   "pygments_lexer": "ipython3",
   "version": "3.7.3"
  }
 },
 "nbformat": 4,
 "nbformat_minor": 4
}
