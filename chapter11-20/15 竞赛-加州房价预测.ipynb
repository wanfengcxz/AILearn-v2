{
 "cells": [
  {
   "cell_type": "code",
   "execution_count": 1,
   "metadata": {},
   "outputs": [],
   "source": [
    "import torch\n",
    "from torch import nn\n",
    "import pandas as pd\n",
    "from torch.nn import functional as F\n",
    "from torch.utils import data\n",
    "import wandb\n",
    "from tqdm import tqdm"
   ]
  },
  {
   "cell_type": "code",
   "execution_count": 2,
   "metadata": {},
   "outputs": [],
   "source": [
    "train_data = pd.read_csv(\"../data/train.csv/train.csv\") \n",
    "test_data = pd.read_csv(\"../data/test.csv/test.csv\")"
   ]
  },
  {
   "cell_type": "code",
   "execution_count": 3,
   "metadata": {},
   "outputs": [
    {
     "data": {
      "text/html": [
       "<div>\n",
       "<style scoped>\n",
       "    .dataframe tbody tr th:only-of-type {\n",
       "        vertical-align: middle;\n",
       "    }\n",
       "\n",
       "    .dataframe tbody tr th {\n",
       "        vertical-align: top;\n",
       "    }\n",
       "\n",
       "    .dataframe thead th {\n",
       "        text-align: right;\n",
       "    }\n",
       "</style>\n",
       "<table border=\"1\" class=\"dataframe\">\n",
       "  <thead>\n",
       "    <tr style=\"text-align: right;\">\n",
       "      <th></th>\n",
       "      <th>Id</th>\n",
       "      <th>Address</th>\n",
       "      <th>Sold Price</th>\n",
       "      <th>Summary</th>\n",
       "      <th>Type</th>\n",
       "      <th>Year built</th>\n",
       "      <th>Heating</th>\n",
       "      <th>Cooling</th>\n",
       "      <th>Parking</th>\n",
       "      <th>Lot</th>\n",
       "      <th>...</th>\n",
       "      <th>Parking features</th>\n",
       "      <th>Tax assessed value</th>\n",
       "      <th>Annual tax amount</th>\n",
       "      <th>Listed On</th>\n",
       "      <th>Listed Price</th>\n",
       "      <th>Last Sold On</th>\n",
       "      <th>Last Sold Price</th>\n",
       "      <th>City</th>\n",
       "      <th>Zip</th>\n",
       "      <th>State</th>\n",
       "    </tr>\n",
       "  </thead>\n",
       "  <tbody>\n",
       "    <tr>\n",
       "      <th>0</th>\n",
       "      <td>0</td>\n",
       "      <td>540 Pine Ln</td>\n",
       "      <td>3825000.0</td>\n",
       "      <td>540 Pine Ln, Los Altos, CA 94022 is a single f...</td>\n",
       "      <td>SingleFamily</td>\n",
       "      <td>1969.0</td>\n",
       "      <td>Heating - 2+ Zones, Central Forced Air - Gas</td>\n",
       "      <td>Multi-Zone, Central AC, Whole House / Attic Fan</td>\n",
       "      <td>Garage, Garage - Attached, Covered</td>\n",
       "      <td>1.0</td>\n",
       "      <td>...</td>\n",
       "      <td>Garage, Garage - Attached, Covered</td>\n",
       "      <td>886486.0</td>\n",
       "      <td>12580.0</td>\n",
       "      <td>2019-10-24</td>\n",
       "      <td>4198000.0</td>\n",
       "      <td>NaN</td>\n",
       "      <td>NaN</td>\n",
       "      <td>Los Altos</td>\n",
       "      <td>94022</td>\n",
       "      <td>CA</td>\n",
       "    </tr>\n",
       "    <tr>\n",
       "      <th>1</th>\n",
       "      <td>1</td>\n",
       "      <td>1727 W 67th St</td>\n",
       "      <td>505000.0</td>\n",
       "      <td>HURRY, HURRY.......Great house 3 bed and 2 bat...</td>\n",
       "      <td>SingleFamily</td>\n",
       "      <td>1926.0</td>\n",
       "      <td>Combination</td>\n",
       "      <td>Wall/Window Unit(s), Evaporative Cooling, See ...</td>\n",
       "      <td>Detached Carport, Garage</td>\n",
       "      <td>4047.0</td>\n",
       "      <td>...</td>\n",
       "      <td>Detached Carport, Garage</td>\n",
       "      <td>505000.0</td>\n",
       "      <td>6253.0</td>\n",
       "      <td>2019-10-16</td>\n",
       "      <td>525000.0</td>\n",
       "      <td>2019-08-30</td>\n",
       "      <td>328000.0</td>\n",
       "      <td>Los Angeles</td>\n",
       "      <td>90047</td>\n",
       "      <td>CA</td>\n",
       "    </tr>\n",
       "  </tbody>\n",
       "</table>\n",
       "<p>2 rows × 41 columns</p>\n",
       "</div>"
      ],
      "text/plain": [
       "   Id         Address  Sold Price  \\\n",
       "0   0     540 Pine Ln   3825000.0   \n",
       "1   1  1727 W 67th St    505000.0   \n",
       "\n",
       "                                             Summary          Type  \\\n",
       "0  540 Pine Ln, Los Altos, CA 94022 is a single f...  SingleFamily   \n",
       "1  HURRY, HURRY.......Great house 3 bed and 2 bat...  SingleFamily   \n",
       "\n",
       "   Year built                                       Heating  \\\n",
       "0      1969.0  Heating - 2+ Zones, Central Forced Air - Gas   \n",
       "1      1926.0                                   Combination   \n",
       "\n",
       "                                             Cooling  \\\n",
       "0    Multi-Zone, Central AC, Whole House / Attic Fan   \n",
       "1  Wall/Window Unit(s), Evaporative Cooling, See ...   \n",
       "\n",
       "                              Parking     Lot  ...  \\\n",
       "0  Garage, Garage - Attached, Covered     1.0  ...   \n",
       "1            Detached Carport, Garage  4047.0  ...   \n",
       "\n",
       "                     Parking features  Tax assessed value  Annual tax amount  \\\n",
       "0  Garage, Garage - Attached, Covered            886486.0            12580.0   \n",
       "1            Detached Carport, Garage            505000.0             6253.0   \n",
       "\n",
       "    Listed On  Listed Price  Last Sold On Last Sold Price         City    Zip  \\\n",
       "0  2019-10-24     4198000.0           NaN             NaN    Los Altos  94022   \n",
       "1  2019-10-16      525000.0    2019-08-30        328000.0  Los Angeles  90047   \n",
       "\n",
       "   State  \n",
       "0     CA  \n",
       "1     CA  \n",
       "\n",
       "[2 rows x 41 columns]"
      ]
     },
     "execution_count": 3,
     "metadata": {},
     "output_type": "execute_result"
    }
   ],
   "source": [
    "train_data.iloc[0:2,:]"
   ]
  },
  {
   "cell_type": "code",
   "execution_count": 4,
   "metadata": {},
   "outputs": [
    {
     "data": {
      "text/html": [
       "<div>\n",
       "<style scoped>\n",
       "    .dataframe tbody tr th:only-of-type {\n",
       "        vertical-align: middle;\n",
       "    }\n",
       "\n",
       "    .dataframe tbody tr th {\n",
       "        vertical-align: top;\n",
       "    }\n",
       "\n",
       "    .dataframe thead th {\n",
       "        text-align: right;\n",
       "    }\n",
       "</style>\n",
       "<table border=\"1\" class=\"dataframe\">\n",
       "  <thead>\n",
       "    <tr style=\"text-align: right;\">\n",
       "      <th></th>\n",
       "      <th>Id</th>\n",
       "      <th>Address</th>\n",
       "      <th>Summary</th>\n",
       "      <th>Type</th>\n",
       "      <th>Year built</th>\n",
       "      <th>Heating</th>\n",
       "      <th>Cooling</th>\n",
       "      <th>Parking</th>\n",
       "      <th>Lot</th>\n",
       "      <th>Bedrooms</th>\n",
       "      <th>...</th>\n",
       "      <th>Parking features</th>\n",
       "      <th>Tax assessed value</th>\n",
       "      <th>Annual tax amount</th>\n",
       "      <th>Listed On</th>\n",
       "      <th>Listed Price</th>\n",
       "      <th>Last Sold On</th>\n",
       "      <th>Last Sold Price</th>\n",
       "      <th>City</th>\n",
       "      <th>Zip</th>\n",
       "      <th>State</th>\n",
       "    </tr>\n",
       "  </thead>\n",
       "  <tbody>\n",
       "    <tr>\n",
       "      <th>0</th>\n",
       "      <td>47439</td>\n",
       "      <td>3034 N Coolidge Ave</td>\n",
       "      <td>Live within steps to the scenic views on the L...</td>\n",
       "      <td>SingleFamily</td>\n",
       "      <td>2020.0</td>\n",
       "      <td>Central</td>\n",
       "      <td>Central Air</td>\n",
       "      <td>Tandem Uncovered</td>\n",
       "      <td>940.0</td>\n",
       "      <td>2</td>\n",
       "      <td>...</td>\n",
       "      <td>Tandem Uncovered</td>\n",
       "      <td>NaN</td>\n",
       "      <td>NaN</td>\n",
       "      <td>2020-11-06</td>\n",
       "      <td>799900.0</td>\n",
       "      <td>2020-07-01</td>\n",
       "      <td>819000.0</td>\n",
       "      <td>Dodgertown</td>\n",
       "      <td>90090</td>\n",
       "      <td>CA</td>\n",
       "    </tr>\n",
       "    <tr>\n",
       "      <th>1</th>\n",
       "      <td>47440</td>\n",
       "      <td>565 Kenilworth Ave</td>\n",
       "      <td>duplex fixer. Input for comps only</td>\n",
       "      <td>SingleFamily</td>\n",
       "      <td>1924.0</td>\n",
       "      <td>Natural Gas</td>\n",
       "      <td>None</td>\n",
       "      <td>Detached</td>\n",
       "      <td>10018.8</td>\n",
       "      <td>3</td>\n",
       "      <td>...</td>\n",
       "      <td>Detached</td>\n",
       "      <td>521977.0</td>\n",
       "      <td>7494.0</td>\n",
       "      <td>2014-04-04</td>\n",
       "      <td>479950.0</td>\n",
       "      <td>2020-11-03</td>\n",
       "      <td>15000.0</td>\n",
       "      <td>San Leandro</td>\n",
       "      <td>94577</td>\n",
       "      <td>CA</td>\n",
       "    </tr>\n",
       "  </tbody>\n",
       "</table>\n",
       "<p>2 rows × 40 columns</p>\n",
       "</div>"
      ],
      "text/plain": [
       "      Id              Address  \\\n",
       "0  47439  3034 N Coolidge Ave   \n",
       "1  47440   565 Kenilworth Ave   \n",
       "\n",
       "                                             Summary          Type  \\\n",
       "0  Live within steps to the scenic views on the L...  SingleFamily   \n",
       "1                 duplex fixer. Input for comps only  SingleFamily   \n",
       "\n",
       "   Year built      Heating      Cooling           Parking      Lot Bedrooms  \\\n",
       "0      2020.0      Central  Central Air  Tandem Uncovered    940.0        2   \n",
       "1      1924.0  Natural Gas         None          Detached  10018.8        3   \n",
       "\n",
       "   ...  Parking features  Tax assessed value  Annual tax amount   Listed On  \\\n",
       "0  ...  Tandem Uncovered                 NaN                NaN  2020-11-06   \n",
       "1  ...          Detached            521977.0             7494.0  2014-04-04   \n",
       "\n",
       "   Listed Price Last Sold On Last Sold Price         City    Zip State  \n",
       "0      799900.0   2020-07-01        819000.0   Dodgertown  90090    CA  \n",
       "1      479950.0   2020-11-03         15000.0  San Leandro  94577    CA  \n",
       "\n",
       "[2 rows x 40 columns]"
      ]
     },
     "execution_count": 4,
     "metadata": {},
     "output_type": "execute_result"
    }
   ],
   "source": [
    "test_data.iloc[0:2,:]"
   ]
  },
  {
   "cell_type": "code",
   "execution_count": 5,
   "metadata": {},
   "outputs": [
    {
     "data": {
      "text/plain": [
       "((47439, 41), (31626, 40))"
      ]
     },
     "execution_count": 5,
     "metadata": {},
     "output_type": "execute_result"
    }
   ],
   "source": [
    "train_data.shape, test_data.shape"
   ]
  },
  {
   "cell_type": "code",
   "execution_count": 6,
   "metadata": {},
   "outputs": [
    {
     "data": {
      "text/html": [
       "<div>\n",
       "<style scoped>\n",
       "    .dataframe tbody tr th:only-of-type {\n",
       "        vertical-align: middle;\n",
       "    }\n",
       "\n",
       "    .dataframe tbody tr th {\n",
       "        vertical-align: top;\n",
       "    }\n",
       "\n",
       "    .dataframe thead th {\n",
       "        text-align: right;\n",
       "    }\n",
       "</style>\n",
       "<table border=\"1\" class=\"dataframe\">\n",
       "  <thead>\n",
       "    <tr style=\"text-align: right;\">\n",
       "      <th></th>\n",
       "      <th>Type</th>\n",
       "      <th>Year built</th>\n",
       "      <th>Heating</th>\n",
       "      <th>Cooling</th>\n",
       "      <th>Parking</th>\n",
       "      <th>Lot</th>\n",
       "      <th>Bedrooms</th>\n",
       "      <th>Bathrooms</th>\n",
       "      <th>Full bathrooms</th>\n",
       "      <th>Total interior livable area</th>\n",
       "      <th>...</th>\n",
       "      <th>Laundry features</th>\n",
       "      <th>Parking features</th>\n",
       "      <th>Tax assessed value</th>\n",
       "      <th>Annual tax amount</th>\n",
       "      <th>Listed On</th>\n",
       "      <th>Listed Price</th>\n",
       "      <th>Last Sold On</th>\n",
       "      <th>Last Sold Price</th>\n",
       "      <th>City</th>\n",
       "      <th>Zip</th>\n",
       "    </tr>\n",
       "  </thead>\n",
       "  <tbody>\n",
       "    <tr>\n",
       "      <th>0</th>\n",
       "      <td>SingleFamily</td>\n",
       "      <td>1969.0</td>\n",
       "      <td>Heating - 2+ Zones, Central Forced Air - Gas</td>\n",
       "      <td>Multi-Zone, Central AC, Whole House / Attic Fan</td>\n",
       "      <td>Garage, Garage - Attached, Covered</td>\n",
       "      <td>1.0</td>\n",
       "      <td>Ground Floor Bedroom, Master Bedroom on Ground...</td>\n",
       "      <td>0.0</td>\n",
       "      <td>NaN</td>\n",
       "      <td>1.0</td>\n",
       "      <td>...</td>\n",
       "      <td>Washer / Dryer, Inside, In Utility Room</td>\n",
       "      <td>Garage, Garage - Attached, Covered</td>\n",
       "      <td>886486.0</td>\n",
       "      <td>12580.0</td>\n",
       "      <td>2019-10-24</td>\n",
       "      <td>4198000.0</td>\n",
       "      <td>NaN</td>\n",
       "      <td>NaN</td>\n",
       "      <td>Los Altos</td>\n",
       "      <td>94022</td>\n",
       "    </tr>\n",
       "    <tr>\n",
       "      <th>1</th>\n",
       "      <td>SingleFamily</td>\n",
       "      <td>1926.0</td>\n",
       "      <td>Combination</td>\n",
       "      <td>Wall/Window Unit(s), Evaporative Cooling, See ...</td>\n",
       "      <td>Detached Carport, Garage</td>\n",
       "      <td>4047.0</td>\n",
       "      <td>3</td>\n",
       "      <td>2.0</td>\n",
       "      <td>2.0</td>\n",
       "      <td>872.0</td>\n",
       "      <td>...</td>\n",
       "      <td>Inside</td>\n",
       "      <td>Detached Carport, Garage</td>\n",
       "      <td>505000.0</td>\n",
       "      <td>6253.0</td>\n",
       "      <td>2019-10-16</td>\n",
       "      <td>525000.0</td>\n",
       "      <td>2019-08-30</td>\n",
       "      <td>328000.0</td>\n",
       "      <td>Los Angeles</td>\n",
       "      <td>90047</td>\n",
       "    </tr>\n",
       "  </tbody>\n",
       "</table>\n",
       "<p>2 rows × 36 columns</p>\n",
       "</div>"
      ],
      "text/plain": [
       "           Type  Year built                                       Heating  \\\n",
       "0  SingleFamily      1969.0  Heating - 2+ Zones, Central Forced Air - Gas   \n",
       "1  SingleFamily      1926.0                                   Combination   \n",
       "\n",
       "                                             Cooling  \\\n",
       "0    Multi-Zone, Central AC, Whole House / Attic Fan   \n",
       "1  Wall/Window Unit(s), Evaporative Cooling, See ...   \n",
       "\n",
       "                              Parking     Lot  \\\n",
       "0  Garage, Garage - Attached, Covered     1.0   \n",
       "1            Detached Carport, Garage  4047.0   \n",
       "\n",
       "                                            Bedrooms  Bathrooms  \\\n",
       "0  Ground Floor Bedroom, Master Bedroom on Ground...        0.0   \n",
       "1                                                  3        2.0   \n",
       "\n",
       "   Full bathrooms  Total interior livable area  ...  \\\n",
       "0             NaN                          1.0  ...   \n",
       "1             2.0                        872.0  ...   \n",
       "\n",
       "                          Laundry features  \\\n",
       "0  Washer / Dryer, Inside, In Utility Room   \n",
       "1                                   Inside   \n",
       "\n",
       "                     Parking features Tax assessed value Annual tax amount  \\\n",
       "0  Garage, Garage - Attached, Covered           886486.0           12580.0   \n",
       "1            Detached Carport, Garage           505000.0            6253.0   \n",
       "\n",
       "    Listed On  Listed Price Last Sold On  Last Sold Price         City    Zip  \n",
       "0  2019-10-24     4198000.0          NaN              NaN    Los Altos  94022  \n",
       "1  2019-10-16      525000.0   2019-08-30         328000.0  Los Angeles  90047  \n",
       "\n",
       "[2 rows x 36 columns]"
      ]
     },
     "execution_count": 6,
     "metadata": {},
     "output_type": "execute_result"
    }
   ],
   "source": [
    "# 删除训练数据集中的第一列,最后一列\n",
    "all_features = pd.concat((train_data.iloc[:,4:-1],  test_data.iloc[:,3:-1]))\n",
    "all_features.iloc[:2,:]"
   ]
  },
  {
   "cell_type": "code",
   "execution_count": 7,
   "metadata": {},
   "outputs": [
    {
     "data": {
      "text/plain": [
       "(79065, 36)"
      ]
     },
     "execution_count": 7,
     "metadata": {},
     "output_type": "execute_result"
    }
   ],
   "source": [
    "all_features.shape"
   ]
  },
  {
   "cell_type": "code",
   "execution_count": 8,
   "metadata": {},
   "outputs": [],
   "source": [
    "numeric_features = all_features.dtypes[all_features.dtypes != 'object'].index\n",
    "all_features[numeric_features] = all_features[numeric_features].apply(\n",
    "    lambda x:(x - x.mean()) / (x.std()))\n",
    "all_features[numeric_features] = all_features[numeric_features].fillna(0)"
   ]
  },
  {
   "cell_type": "code",
   "execution_count": 9,
   "metadata": {},
   "outputs": [],
   "source": [
    "all_features['Last Sold On'] = all_features['Last Sold On'].fillna(method='ffill',axis=0).fillna(0)\n",
    "all_features['Listed On'] = all_features['Listed On'].fillna(method='ffill',axis=0).fillna(0)"
   ]
  },
  {
   "cell_type": "code",
   "execution_count": 10,
   "metadata": {},
   "outputs": [
    {
     "name": "stdout",
     "output_type": "stream",
     "text": [
      "Type                 174\n",
      "Heating              2660\n",
      "Cooling              911\n",
      "Parking              9913\n",
      "Bedrooms             278\n",
      "Region               1259\n",
      "Elementary School    3568\n",
      "Middle School        809\n",
      "High School          922\n",
      "Flooring             1740\n",
      "Heating features     1763\n",
      "Cooling features     596\n",
      "Appliances included  11290\n",
      "Laundry features     3031\n",
      "Parking features     9695\n",
      "Listed On            2815\n",
      "Last Sold On         6949\n",
      "City                 1122\n"
     ]
    }
   ],
   "source": [
    "for in_object in all_features.dtypes[all_features.dtypes=='object'].index:\n",
    "    print(in_object.ljust(20), len(all_features[in_object].unique()))"
   ]
  },
  {
   "cell_type": "code",
   "execution_count": 11,
   "metadata": {},
   "outputs": [
    {
     "data": {
      "text/plain": [
       "0   1970-01-01\n",
       "1   2019-08-30\n",
       "2   2019-08-30\n",
       "3   2016-08-30\n",
       "4   2016-06-27\n",
       "Name: Last Sold On, dtype: datetime64[ns]"
      ]
     },
     "execution_count": 11,
     "metadata": {},
     "output_type": "execute_result"
    }
   ],
   "source": [
    "all_features['Listed On'] = pd.to_datetime(all_features['Listed On'], format='%Y-%m-%d')\n",
    "all_features['Last Sold On'] = pd.to_datetime(all_features['Last Sold On'], format='%Y-%m-%d')\n",
    "all_features['Last Sold On'].head()"
   ]
  },
  {
   "cell_type": "code",
   "execution_count": 12,
   "metadata": {},
   "outputs": [
    {
     "data": {
      "text/plain": [
       "array([dtype('O'), dtype('float64'), dtype('<M8[ns]')], dtype=object)"
      ]
     },
     "execution_count": 12,
     "metadata": {},
     "output_type": "execute_result"
    }
   ],
   "source": [
    "all_features.dtypes.unique()"
   ]
  },
  {
   "cell_type": "code",
   "execution_count": 13,
   "metadata": {},
   "outputs": [
    {
     "data": {
      "text/plain": [
       "Index(['Year built', 'Lot', 'Bathrooms', 'Full bathrooms',\n",
       "       'Total interior livable area', 'Total spaces', 'Garage spaces',\n",
       "       'Elementary School Score', 'Elementary School Distance',\n",
       "       'Middle School Score', 'Middle School Distance', 'High School Score',\n",
       "       'High School Distance', 'Tax assessed value', 'Annual tax amount',\n",
       "       'Listed Price', 'Last Sold Price', 'Zip'],\n",
       "      dtype='object')"
      ]
     },
     "execution_count": 13,
     "metadata": {},
     "output_type": "execute_result"
    }
   ],
   "source": [
    "numeric_features = all_features.dtypes[all_features.dtypes == 'float64'].index\n",
    "numeric_features"
   ]
  },
  {
   "cell_type": "code",
   "execution_count": 14,
   "metadata": {},
   "outputs": [],
   "source": [
    "all_features[numeric_features] = all_features[numeric_features].apply(\n",
    "    lambda x: (x - x.mean()) / (x.std()))"
   ]
  },
  {
   "cell_type": "code",
   "execution_count": 15,
   "metadata": {},
   "outputs": [
    {
     "data": {
      "text/plain": [
       "['Year built',\n",
       " 'Lot',\n",
       " 'Bathrooms',\n",
       " 'Full bathrooms',\n",
       " 'Total interior livable area',\n",
       " 'Total spaces',\n",
       " 'Garage spaces',\n",
       " 'Elementary School Score',\n",
       " 'Elementary School Distance',\n",
       " 'Middle School Score',\n",
       " 'Middle School Distance',\n",
       " 'High School Score',\n",
       " 'High School Distance',\n",
       " 'Tax assessed value',\n",
       " 'Annual tax amount',\n",
       " 'Listed Price',\n",
       " 'Last Sold Price',\n",
       " 'Zip',\n",
       " 'Type']"
      ]
     },
     "execution_count": 15,
     "metadata": {},
     "output_type": "execute_result"
    }
   ],
   "source": [
    "features = list(numeric_features)\n",
    "features.append('Type')\n",
    "features"
   ]
  },
  {
   "cell_type": "code",
   "execution_count": 16,
   "metadata": {},
   "outputs": [
    {
     "data": {
      "text/plain": [
       "(79065, 19)"
      ]
     },
     "execution_count": 16,
     "metadata": {},
     "output_type": "execute_result"
    }
   ],
   "source": [
    "all_features = all_features[features]\n",
    "all_features.shape"
   ]
  },
  {
   "cell_type": "code",
   "execution_count": 17,
   "metadata": {},
   "outputs": [
    {
     "data": {
      "text/html": [
       "<div>\n",
       "<style scoped>\n",
       "    .dataframe tbody tr th:only-of-type {\n",
       "        vertical-align: middle;\n",
       "    }\n",
       "\n",
       "    .dataframe tbody tr th {\n",
       "        vertical-align: top;\n",
       "    }\n",
       "\n",
       "    .dataframe thead th {\n",
       "        text-align: right;\n",
       "    }\n",
       "</style>\n",
       "<table border=\"1\" class=\"dataframe\">\n",
       "  <thead>\n",
       "    <tr style=\"text-align: right;\">\n",
       "      <th></th>\n",
       "      <th>Middle School Distance</th>\n",
       "      <th>High School Score</th>\n",
       "      <th>High School Distance</th>\n",
       "      <th>Tax assessed value</th>\n",
       "      <th>Annual tax amount</th>\n",
       "      <th>Listed Price</th>\n",
       "      <th>Last Sold Price</th>\n",
       "      <th>Zip</th>\n",
       "      <th>Type</th>\n",
       "    </tr>\n",
       "  </thead>\n",
       "  <tbody>\n",
       "    <tr>\n",
       "      <th>0</th>\n",
       "      <td>-8.387270e-17</td>\n",
       "      <td>0.978758</td>\n",
       "      <td>-0.333677</td>\n",
       "      <td>0.203070</td>\n",
       "      <td>0.320225</td>\n",
       "      <td>1.407144</td>\n",
       "      <td>1.635204e-17</td>\n",
       "      <td>0.411159</td>\n",
       "      <td>SingleFamily</td>\n",
       "    </tr>\n",
       "    <tr>\n",
       "      <th>1</th>\n",
       "      <td>-3.282366e-01</td>\n",
       "      <td>-2.212942</td>\n",
       "      <td>-0.333677</td>\n",
       "      <td>-0.182542</td>\n",
       "      <td>-0.197337</td>\n",
       "      <td>-0.282410</td>\n",
       "      <td>-4.613161e-01</td>\n",
       "      <td>-1.492275</td>\n",
       "      <td>SingleFamily</td>\n",
       "    </tr>\n",
       "  </tbody>\n",
       "</table>\n",
       "</div>"
      ],
      "text/plain": [
       "   Middle School Distance  High School Score  High School Distance  \\\n",
       "0           -8.387270e-17           0.978758             -0.333677   \n",
       "1           -3.282366e-01          -2.212942             -0.333677   \n",
       "\n",
       "   Tax assessed value  Annual tax amount  Listed Price  Last Sold Price  \\\n",
       "0            0.203070           0.320225      1.407144     1.635204e-17   \n",
       "1           -0.182542          -0.197337     -0.282410    -4.613161e-01   \n",
       "\n",
       "        Zip          Type  \n",
       "0  0.411159  SingleFamily  \n",
       "1 -1.492275  SingleFamily  "
      ]
     },
     "execution_count": 17,
     "metadata": {},
     "output_type": "execute_result"
    }
   ],
   "source": [
    "all_features.iloc[:2,10:]"
   ]
  },
  {
   "cell_type": "code",
   "execution_count": 18,
   "metadata": {},
   "outputs": [],
   "source": [
    "all_features = pd.get_dummies(all_features, dummy_na=True)"
   ]
  },
  {
   "cell_type": "code",
   "execution_count": 19,
   "metadata": {},
   "outputs": [
    {
     "data": {
      "text/plain": [
       "(79065, 193)"
      ]
     },
     "execution_count": 19,
     "metadata": {},
     "output_type": "execute_result"
    }
   ],
   "source": [
    "all_features.shape"
   ]
  },
  {
   "cell_type": "code",
   "execution_count": 20,
   "metadata": {},
   "outputs": [],
   "source": [
    "class MLP(nn.Module):\n",
    "    def __init__(self, input_size):\n",
    "        super().__init__()\n",
    "        self.hidden1 = nn.Linear(input_size, 256)\n",
    "        self.hidden2 = nn.Linear(256, 128)\n",
    "        self.out_layer = nn.Linear(128, 1)\n",
    "    \n",
    "    def forward(self, X):\n",
    "        X = F.relu(self.hidden1(X))\n",
    "        X = F.relu(self.hidden2(X))\n",
    "        return self.out_layer(X)\n",
    "device = torch.device('cuda:0')"
   ]
  },
  {
   "cell_type": "code",
   "execution_count": 21,
   "metadata": {},
   "outputs": [
    {
     "name": "stdout",
     "output_type": "stream",
     "text": [
      "torch.Size([47439, 193])\n",
      "torch.Size([47439, 1])\n",
      "torch.Size([31626, 193])\n"
     ]
    }
   ],
   "source": [
    "n_train = train_data.shape[0]\n",
    "train_features = torch.tensor(all_features[:n_train].values,\n",
    "                              dtype=torch.float32)\n",
    "print(train_features.shape)\n",
    "train_labels = torch.tensor(train_data['Sold Price'].values.reshape(-1,1),\n",
    "                            dtype=torch.float32)\n",
    "print(train_labels.shape)\n",
    "test_features = torch.tensor(all_features[n_train:].values,\n",
    "                             dtype=torch.float32)\n",
    "print(test_features.shape)"
   ]
  },
  {
   "cell_type": "code",
   "execution_count": 22,
   "metadata": {},
   "outputs": [],
   "source": [
    "input_size = train_features.shape[1]\n",
    "\n",
    "net = MLP(input_size).to(device)"
   ]
  },
  {
   "cell_type": "code",
   "execution_count": 23,
   "metadata": {},
   "outputs": [],
   "source": [
    "criterion = nn.MSELoss()\n",
    "def load_array(data_array, batch_size, is_train=True):\n",
    "    # TensorDataset可以对训练集进行打包\n",
    "    dataset = data.TensorDataset(*data_array)\n",
    "    return data.DataLoader(dataset, batch_size,shuffle=is_train)\n",
    "\n",
    "def log_rmse(net, features, labels):\n",
    "    clipped_preds = torch.clamp(net(features), 1,float('inf'))\n",
    "    rmse = torch.sqrt(criterion(torch.log(clipped_preds),\n",
    "                                torch.log(labels)))\n",
    "    return rmse.item()"
   ]
  },
  {
   "cell_type": "code",
   "execution_count": 24,
   "metadata": {},
   "outputs": [],
   "source": [
    "NUM_SAVE=40\n",
    "def train(net, train_features, train_labels, test_features,\n",
    "          test_labels, num_epochs, learning_rate, weight_decay,\n",
    "          batch_size):\n",
    "    wandb.watch(net)\n",
    "    train_ls, test_ls = [], []\n",
    "    train_iter = load_array((train_features, train_labels),batch_size)\n",
    "    optimizer = torch.optim.Adam(net.parameters(), lr = learning_rate,\n",
    "                                 weight_decay=weight_decay)\n",
    "    # tqdm进度条\n",
    "    for epoch in range(num_epochs):\n",
    "        for X, y in train_iter:\n",
    "            X, y = X.to(device), y.to(device)\n",
    "            optimizer.zero_grad()\n",
    "            outputs = net(X)\n",
    "            loss = criterion(outputs, y)\n",
    "            loss.backward()\n",
    "            optimizer.step()\n",
    "        record_loss = log_rmse(net.to('cpu'), train_features, train_labels)\n",
    "        wandb.log({'loss':record_loss, 'epoch':epoch})\n",
    "        train_ls.append(record_loss)\n",
    "        if (epoch%NUM_SAVE==0 and epoch!=0) or (epoch==num_epochs-1):\n",
    "            torch.save(net.state_dict(), 'checkpoin_'+str(epoch))\n",
    "            print('save checkpoints on:',epoch,'rmse loss value is:',\n",
    "                  record_loss)\n",
    "        del X, y\n",
    "        net.to(device)\n",
    "    wandb.finish()\n",
    "    return train_ls, test_ls   "
   ]
  },
  {
   "cell_type": "code",
   "execution_count": 25,
   "metadata": {},
   "outputs": [
    {
     "name": "stderr",
     "output_type": "stream",
     "text": [
      "wandb: Currently logged in as: wangfengcxz (use `wandb login --relogin` to force relogin)\n"
     ]
    },
    {
     "data": {
      "text/html": [
       "\n",
       "                    Syncing run <strong><a href=\"https://wandb.ai/wangfengcxz/kaggle_com1/runs/rbrjazt8\" target=\"_blank\">wandering-sunset-5</a></strong> to <a href=\"https://wandb.ai/wangfengcxz/kaggle_com1\" target=\"_blank\">Weights & Biases</a> (<a href=\"https://docs.wandb.com/integrations/jupyter.html\" target=\"_blank\">docs</a>).<br/>\n",
       "\n",
       "                "
      ],
      "text/plain": [
       "<IPython.core.display.HTML object>"
      ]
     },
     "metadata": {},
     "output_type": "display_data"
    },
    {
     "name": "stdout",
     "output_type": "stream",
     "text": [
      "netword: MLP(\n",
      "  (hidden1): Linear(in_features=193, out_features=256, bias=True)\n",
      "  (hidden2): Linear(in_features=256, out_features=128, bias=True)\n",
      "  (out_layer): Linear(in_features=128, out_features=1, bias=True)\n",
      ")\n"
     ]
    }
   ],
   "source": [
    "num_epochs, lr, weight_decay, batch_size = 120, 0.01, 0.05, 256\n",
    "wandb.init(project='kaggle_com1',\n",
    "           config={ \"learning_rate\": lr,\n",
    "                    \"weight_decay\": weight_decay,\n",
    "                    \"batch_size\": batch_size,\n",
    "                    \"total_run\": num_epochs}\n",
    "          )\n",
    "print(\"netword:\",net)"
   ]
  },
  {
   "cell_type": "code",
   "execution_count": 26,
   "metadata": {},
   "outputs": [
    {
     "name": "stdout",
     "output_type": "stream",
     "text": [
      "save checkpoints on: 40 rmse loss value is: 0.4506903290748596\n",
      "save checkpoints on: 80 rmse loss value is: 0.4205334782600403\n",
      "save checkpoints on: 119 rmse loss value is: 0.28159475326538086\n"
     ]
    },
    {
     "data": {
      "text/html": [
       "<br/>Waiting for W&B process to finish, PID 6192... <strong style=\"color:green\">(success).</strong>"
      ],
      "text/plain": [
       "<IPython.core.display.HTML object>"
      ]
     },
     "metadata": {},
     "output_type": "display_data"
    },
    {
     "data": {
      "application/vnd.jupyter.widget-view+json": {
       "model_id": "97c9fb5a12114c72b16f38bdc99e080e",
       "version_major": 2,
       "version_minor": 0
      },
      "text/plain": [
       "VBox(children=(Label(value=' 0.00MB of 0.00MB uploaded (0.00MB deduped)\\r'), FloatProgress(value=1.0, max=1.0)…"
      ]
     },
     "metadata": {},
     "output_type": "display_data"
    },
    {
     "data": {
      "text/html": [
       "<style>\n",
       "    table.wandb td:nth-child(1) { padding: 0 10px; text-align: right }\n",
       "    .wandb-row { display: flex; flex-direction: row; flex-wrap: wrap; width: 100% }\n",
       "    .wandb-col { display: flex; flex-direction: column; flex-basis: 100%; flex: 1; padding: 10px; }\n",
       "    </style>\n",
       "<div class=\"wandb-row\"><div class=\"wandb-col\">\n",
       "<h3>Run history:</h3><br/><table class=\"wandb\"><tr><td>epoch</td><td>▁▁▁▂▂▂▂▂▂▃▃▃▃▃▃▄▄▄▄▄▅▅▅▅▅▅▆▆▆▆▆▇▇▇▇▇▇███</td></tr><tr><td>loss</td><td>█▂▂▂▂▂▂▂▂▂▂▂▂▂▂▂▂▂▂▂▂▂▂▂▂▂▂▁▁▁▁▁▁▁▁▁▁▁▁▁</td></tr></table><br/></div><div class=\"wandb-col\">\n",
       "<h3>Run summary:</h3><br/><table class=\"wandb\"><tr><td>epoch</td><td>119</td></tr><tr><td>loss</td><td>0.28159</td></tr></table>\n",
       "</div></div>\n",
       "Synced 5 W&B file(s), 0 media file(s), 0 artifact file(s) and 0 other file(s)\n",
       "<br/>Synced <strong style=\"color:#cdcd00\">wandering-sunset-5</strong>: <a href=\"https://wandb.ai/wangfengcxz/kaggle_com1/runs/rbrjazt8\" target=\"_blank\">https://wandb.ai/wangfengcxz/kaggle_com1/runs/rbrjazt8</a><br/>\n",
       "Find logs at: <code>.\\wandb\\run-20220114_200956-rbrjazt8\\logs</code><br/>\n"
      ],
      "text/plain": [
       "<IPython.core.display.HTML object>"
      ]
     },
     "metadata": {},
     "output_type": "display_data"
    }
   ],
   "source": [
    "train_ls, valid_ls = train(net, train_features,train_labels,\n",
    "                           None,None, num_epochs, lr, \n",
    "                           weight_decay, batch_size)"
   ]
  },
  {
   "cell_type": "code",
   "execution_count": 27,
   "metadata": {},
   "outputs": [],
   "source": [
    "net.to('cpu')\n",
    "# detach将当前网络从计算图中分离出来，即不再计算梯度（因为梯度是通过计算图得方式得到的\n",
    "preds = net(test_features).detach().numpy()\n",
    "\n",
    "# 格式化导出\n",
    "test_data['Sold Price'] = pd.Series(preds.reshape(1,-1)[0])\n",
    "submission = pd.concat([test_data['Id'], test_data['Sold Price']], axis=1)"
   ]
  },
  {
   "cell_type": "code",
   "execution_count": 29,
   "metadata": {},
   "outputs": [],
   "source": [
    "submission.to_csv('../Kaggle/加州房价预测/submission.csv',index=False)"
   ]
  }
 ],
 "metadata": {
  "kernelspec": {
   "display_name": "Python 3",
   "language": "python",
   "name": "python3"
  },
  "language_info": {
   "codemirror_mode": {
    "name": "ipython",
    "version": 3
   },
   "file_extension": ".py",
   "mimetype": "text/x-python",
   "name": "python",
   "nbconvert_exporter": "python",
   "pygments_lexer": "ipython3",
   "version": "3.7.3"
  }
 },
 "nbformat": 4,
 "nbformat_minor": 4
}
